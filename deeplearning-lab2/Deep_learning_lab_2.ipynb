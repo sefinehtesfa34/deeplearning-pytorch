{
  "nbformat": 4,
  "nbformat_minor": 0,
  "metadata": {
    "colab": {
      "provenance": []
    },
    "kernelspec": {
      "name": "python3",
      "display_name": "Python 3"
    },
    "language_info": {
      "name": "python"
    }
  },
  "cells": [
    {
      "cell_type": "code",
      "source": [
        "import torch"
      ],
      "metadata": {
        "id": "RYKbbWwy2tUi"
      },
      "execution_count": 2,
      "outputs": []
    },
    {
      "cell_type": "code",
      "source": [
        "\n",
        "class Model:\n",
        "  def __init__(self, n_features, n_neurons):\n",
        "    self.n_features = n_features\n",
        "    self.n_neurons = n_neurons\n",
        "    self.weight = torch.rand(n_features, n_neurons)\n",
        "    self.bias = torch.rand(n_neurons)\n",
        "\n",
        "\n",
        "  def forward(self, inputs):\n",
        "    self.output = inputs@self.weight + self.bias\n",
        "    return self.output\n",
        "\n",
        "  def normalize(self, x):\n",
        "    return (x-torch.min(x))/(torch.max(x) - torch.min(x))\n",
        "\n",
        "  def categoricalCrossentropy(self, y_true, y_predicted):\n",
        "    return torch.mean(-torch.sum(y_true*torch.log(y_predicted), axis = 1))\n",
        "\n",
        "\n",
        "  def relu(self, x):\n",
        "    return torch.max(x, torch.tensor(0))\n",
        "\n",
        "  def sigmoid(self, x):\n",
        "    return 1/(1 + torch.exp(-x))\n",
        "\n",
        "  def softmax(self, x):\n",
        "    return torch.exp(x)/torch.sum(torch.exp(x), axis = 1, keepdim = True)\n"
      ],
      "metadata": {
        "id": "HmXcyKYOoEHm"
      },
      "execution_count": 3,
      "outputs": []
    },
    {
      "cell_type": "code",
      "source": [
        "n_samples = 1000\n",
        "n_features = 4\n",
        "data = torch.rand((n_samples, n_features))"
      ],
      "metadata": {
        "id": "n3ioqmDspxhM"
      },
      "execution_count": 4,
      "outputs": []
    },
    {
      "cell_type": "code",
      "source": [
        "#One hot encoding\n",
        "n_classes = 4\n",
        "one_hot_tensor = torch.eye(n_classes)\n",
        "y_true = one_hot_tensor.repeat(n_samples//n_classes, 1)\n",
        "y_true"
      ],
      "metadata": {
        "colab": {
          "base_uri": "https://localhost:8080/"
        },
        "id": "Y_lW7Iyyvtpi",
        "outputId": "1d28473d-7505-4c09-c148-af45e7112734"
      },
      "execution_count": 5,
      "outputs": [
        {
          "output_type": "execute_result",
          "data": {
            "text/plain": [
              "tensor([[1., 0., 0., 0.],\n",
              "        [0., 1., 0., 0.],\n",
              "        [0., 0., 1., 0.],\n",
              "        ...,\n",
              "        [0., 1., 0., 0.],\n",
              "        [0., 0., 1., 0.],\n",
              "        [0., 0., 0., 1.]])"
            ]
          },
          "metadata": {},
          "execution_count": 5
        }
      ]
    },
    {
      "cell_type": "code",
      "source": [
        "layer1 = Model(4, 18)\n",
        "layer2 = Model(18, 18)\n",
        "layer3 = Model(18, 18)\n",
        "outputLayer = Model(18, 4)\n",
        "layer1_output = layer1.relu(layer1.forward(data))\n",
        "layer2_output = layer2.relu(layer2.forward(layer1_output))\n",
        "layer3_output = layer3.softmax(layer3.normalize(layer3.forward(layer2_output)))\n",
        "output = outputLayer.sigmoid(outputLayer.forward(layer3_output))\n",
        "loss = outputLayer.categoricalCrossentropy(y_true, output)\n",
        "print(\"The accuracy:%.5f\" % ((1.0-loss)*100))"
      ],
      "metadata": {
        "id": "3lBeXb1Hw4D8",
        "outputId": "4f763f9f-a2c3-42c2-a1bf-f50ca0c5eb44",
        "colab": {
          "base_uri": "https://localhost:8080/"
        }
      },
      "execution_count": 13,
      "outputs": [
        {
          "output_type": "stream",
          "name": "stdout",
          "text": [
            "The accuracy:69.42976\n"
          ]
        }
      ]
    },
    {
      "cell_type": "code",
      "source": [],
      "metadata": {
        "id": "aIxrUMcZDGaf"
      },
      "execution_count": 14,
      "outputs": []
    }
  ]
}